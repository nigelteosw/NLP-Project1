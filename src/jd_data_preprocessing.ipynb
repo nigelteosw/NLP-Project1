{
 "cells": [
  {
   "cell_type": "markdown",
   "metadata": {},
   "source": [
    "# Import Necessary Libraries"
   ]
  },
  {
   "cell_type": "code",
   "execution_count": 1,
   "metadata": {},
   "outputs": [
    {
     "name": "stderr",
     "output_type": "stream",
     "text": [
      "[nltk_data] Downloading package stopwords to\n",
      "[nltk_data]     C:\\Users\\Anadu\\AppData\\Roaming\\nltk_data...\n",
      "[nltk_data]   Package stopwords is already up-to-date!\n",
      "[nltk_data] Downloading package wordnet to\n",
      "[nltk_data]     C:\\Users\\Anadu\\AppData\\Roaming\\nltk_data...\n",
      "[nltk_data]   Package wordnet is already up-to-date!\n",
      "[nltk_data] Downloading package punkt to\n",
      "[nltk_data]     C:\\Users\\Anadu\\AppData\\Roaming\\nltk_data...\n",
      "[nltk_data]   Package punkt is already up-to-date!\n",
      "[nltk_data] Downloading package stopwords to\n",
      "[nltk_data]     C:\\Users\\Anadu\\AppData\\Roaming\\nltk_data...\n",
      "[nltk_data]   Package stopwords is already up-to-date!\n"
     ]
    },
    {
     "data": {
      "text/plain": [
       "True"
      ]
     },
     "execution_count": 1,
     "metadata": {},
     "output_type": "execute_result"
    }
   ],
   "source": [
    "#spacy\n",
    "import spacy\n",
    "from spacy.pipeline import EntityRuler\n",
    "from spacy.lang.en import English\n",
    "from spacy.tokens import Doc\n",
    "\n",
    "#gensim\n",
    "import gensim\n",
    "from gensim import corpora\n",
    "\n",
    "#Visualization\n",
    "from spacy import displacy\n",
    "from wordcloud import WordCloud\n",
    "import plotly.express as px\n",
    "import matplotlib.pyplot as plt\n",
    "\n",
    "#nltk\n",
    "import re\n",
    "import nltk\n",
    "from nltk.corpus import stopwords\n",
    "from nltk.stem import WordNetLemmatizer\n",
    "nltk.download(['stopwords','wordnet'])\n",
    "from nltk.tokenize import word_tokenize\n",
    "\n",
    "#Data loading/ Data manipulation\n",
    "import pandas as pd\n",
    "import numpy as np\n",
    "\n",
    "# Ensure required NLTK data is downloaded\n",
    "nltk.download('punkt')\n",
    "nltk.download('stopwords')"
   ]
  },
  {
   "cell_type": "markdown",
   "metadata": {},
   "source": [
    "# Import the CSV file"
   ]
  },
  {
   "cell_type": "code",
   "execution_count": 2,
   "metadata": {},
   "outputs": [],
   "source": [
    "file_path = 'data/Linkedin Job Postings (2023-2024)/postings.csv'\n",
    "data = pd.read_csv(file_path)\n",
    "\n",
    "# Display the first few rows\n",
    "# print(data.head())\n",
    "\n"
   ]
  },
  {
   "cell_type": "code",
   "execution_count": 3,
   "metadata": {},
   "outputs": [
    {
     "name": "stdout",
     "output_type": "stream",
     "text": [
      "     job_id            company_name   \n",
      "0    921716   Corcoran Sawyer Smith  \\\n",
      "1   1829192                     NaN   \n",
      "2  10998357  The National Exemplar    \n",
      "3  23221523  Abrams Fensterman, LLP   \n",
      "4  35982263                     NaN   \n",
      "\n",
      "                                               title   \n",
      "0                              Marketing Coordinator  \\\n",
      "1                  Mental Health Therapist/Counselor   \n",
      "2                        Assitant Restaurant Manager   \n",
      "3  Senior Elder Law / Trusts and Estates Associat...   \n",
      "4                                 Service Technician   \n",
      "\n",
      "                                         description  max_salary pay_period   \n",
      "0  Job descriptionA leading real estate firm in N...        20.0     HOURLY  \\\n",
      "1  At Aspen Therapy and Wellness , we are committ...        50.0     HOURLY   \n",
      "2  The National Exemplar is accepting application...     65000.0     YEARLY   \n",
      "3  Senior Associate Attorney - Elder Law / Trusts...    175000.0     YEARLY   \n",
      "4  Looking for HVAC service tech with experience ...     80000.0     YEARLY   \n",
      "\n",
      "            location  company_id  views  med_salary  ...   \n",
      "0      Princeton, NJ   2774458.0   20.0         NaN  ...  \\\n",
      "1   Fort Collins, CO         NaN    1.0         NaN  ...   \n",
      "2     Cincinnati, OH  64896719.0    8.0         NaN  ...   \n",
      "3  New Hyde Park, NY    766262.0   16.0         NaN  ...   \n",
      "4     Burlington, IA         NaN    3.0         NaN  ...   \n",
      "\n",
      "                                         skills_desc   listed_time   \n",
      "0  Requirements: \\n\\nWe are seeking a College or ...  1.713398e+12  \\\n",
      "1                                                NaN  1.712858e+12   \n",
      "2  We are currently accepting resumes for FOH - A...  1.713278e+12   \n",
      "3  This position requires a baseline understandin...  1.712896e+12   \n",
      "4                                                NaN  1.713452e+12   \n",
      "\n",
      "   posting_domain  sponsored  work_type currency compensation_type   \n",
      "0             NaN          0  FULL_TIME      USD       BASE_SALARY  \\\n",
      "1             NaN          0  FULL_TIME      USD       BASE_SALARY   \n",
      "2             NaN          0  FULL_TIME      USD       BASE_SALARY   \n",
      "3             NaN          0  FULL_TIME      USD       BASE_SALARY   \n",
      "4             NaN          0  FULL_TIME      USD       BASE_SALARY   \n",
      "\n",
      "  normalized_salary  zip_code     fips  \n",
      "0           38480.0    8540.0  34021.0  \n",
      "1           83200.0   80521.0   8069.0  \n",
      "2           55000.0   45202.0  39061.0  \n",
      "3          157500.0   11040.0  36059.0  \n",
      "4           70000.0   52601.0  19057.0  \n",
      "\n",
      "[5 rows x 31 columns]\n"
     ]
    }
   ],
   "source": [
    "# put data into a df\n",
    "df = pd.DataFrame(data)\n",
    "\n",
    "# Display the first few rows\n",
    "print(df.head())\n",
    "\n"
   ]
  },
  {
   "cell_type": "code",
   "execution_count": 4,
   "metadata": {},
   "outputs": [
    {
     "name": "stdout",
     "output_type": "stream",
     "text": [
      "                                               title   \n",
      "0                              Marketing Coordinator  \\\n",
      "1                  Mental Health Therapist/Counselor   \n",
      "2                        Assitant Restaurant Manager   \n",
      "3  Senior Elder Law / Trusts and Estates Associat...   \n",
      "4                                 Service Technician   \n",
      "\n",
      "                                         description   \n",
      "0  Job descriptionA leading real estate firm in N...  \\\n",
      "1  At Aspen Therapy and Wellness , we are committ...   \n",
      "2  The National Exemplar is accepting application...   \n",
      "3  Senior Associate Attorney - Elder Law / Trusts...   \n",
      "4  Looking for HVAC service tech with experience ...   \n",
      "\n",
      "                                         skills_desc  \n",
      "0  Requirements: \\n\\nWe are seeking a College or ...  \n",
      "1                                                NaN  \n",
      "2  We are currently accepting resumes for FOH - A...  \n",
      "3  This position requires a baseline understandin...  \n",
      "4                                                NaN  \n"
     ]
    }
   ],
   "source": [
    "# Keep only the columns we need \"title\", \"description\", \"skills_desc\"\n",
    "df = df[[\"title\", \"description\", \"skills_desc\"]]\n",
    "print(df.head())\n"
   ]
  },
  {
   "cell_type": "code",
   "execution_count": 5,
   "metadata": {},
   "outputs": [
    {
     "name": "stdout",
     "output_type": "stream",
     "text": [
      "                                               title   \n",
      "0                              Marketing Coordinator  \\\n",
      "1                  Mental Health Therapist/Counselor   \n",
      "2                        Assitant Restaurant Manager   \n",
      "3  Senior Elder Law / Trusts and Estates Associat...   \n",
      "4                                 Service Technician   \n",
      "\n",
      "                                         description   \n",
      "0  Job descriptionA leading real estate firm in N...  \\\n",
      "1  At Aspen Therapy and Wellness , we are committ...   \n",
      "2  The National Exemplar is accepting application...   \n",
      "3  Senior Associate Attorney - Elder Law / Trusts...   \n",
      "4  Looking for HVAC service tech with experience ...   \n",
      "\n",
      "                                         skills_desc   \n",
      "0  Requirements: \\n\\nWe are seeking a College or ...  \\\n",
      "1                                                NaN   \n",
      "2  We are currently accepting resumes for FOH - A...   \n",
      "3  This position requires a baseline understandin...   \n",
      "4                                                NaN   \n",
      "\n",
      "                                combined_skills_desc  \n",
      "0  Job descriptionA leading real estate firm in N...  \n",
      "1                                                NaN  \n",
      "2  The National Exemplar is accepting application...  \n",
      "3  Senior Associate Attorney - Elder Law / Trusts...  \n",
      "4                                                NaN  \n"
     ]
    }
   ],
   "source": [
    "# Combine the description and skills_desc columns\n",
    "df['combined_skills_desc'] = df['description'] + df['skills_desc']\n",
    "print(df.head())"
   ]
  },
  {
   "cell_type": "code",
   "execution_count": 6,
   "metadata": {},
   "outputs": [],
   "source": [
    "# Save this to a new csv file\n",
    "df.to_csv('data/Linkedin Job Postings (2023-2024)/postings_combined_desc.csv', index=False)"
   ]
  },
  {
   "cell_type": "code",
   "execution_count": 7,
   "metadata": {},
   "outputs": [
    {
     "name": "stdout",
     "output_type": "stream",
     "text": [
      "                                               title   \n",
      "0                              Marketing Coordinator  \\\n",
      "2                        Assitant Restaurant Manager   \n",
      "3  Senior Elder Law / Trusts and Estates Associat...   \n",
      "8                              Respiratory Therapist   \n",
      "9                                     Worship Leader   \n",
      "\n",
      "                                         description   \n",
      "0  Job descriptionA leading real estate firm in N...  \\\n",
      "2  The National Exemplar is accepting application...   \n",
      "3  Senior Associate Attorney - Elder Law / Trusts...   \n",
      "8  At Children’s, the region’s only full-service ...   \n",
      "9  It is an exciting time to be a part of our chu...   \n",
      "\n",
      "                                         skills_desc   \n",
      "0  Requirements: \\n\\nWe are seeking a College or ...  \\\n",
      "2  We are currently accepting resumes for FOH - A...   \n",
      "3  This position requires a baseline understandin...   \n",
      "8  • Requires the ability to communicate effectiv...   \n",
      "9  Knowledge, Skills and Abilities: 1. Proficient...   \n",
      "\n",
      "                                combined_skills_desc  \n",
      "0  Job descriptionA leading real estate firm in N...  \n",
      "2  The National Exemplar is accepting application...  \n",
      "3  Senior Associate Attorney - Elder Law / Trusts...  \n",
      "8  At Children’s, the region’s only full-service ...  \n",
      "9  It is an exciting time to be a part of our chu...  \n"
     ]
    }
   ],
   "source": [
    "# Remove nan rows\n",
    "df = df.dropna()\n",
    "print(df.head())"
   ]
  },
  {
   "cell_type": "code",
   "execution_count": 8,
   "metadata": {},
   "outputs": [
    {
     "name": "stdout",
     "output_type": "stream",
     "text": [
      "                                               title   \n",
      "0                              Marketing Coordinator  \\\n",
      "2                        Assitant Restaurant Manager   \n",
      "3  Senior Elder Law / Trusts and Estates Associat...   \n",
      "8                              Respiratory Therapist   \n",
      "9                                     Worship Leader   \n",
      "\n",
      "                                combined_skills_desc  \n",
      "0  Job descriptionA leading real estate firm in N...  \n",
      "2  The National Exemplar is accepting application...  \n",
      "3  Senior Associate Attorney - Elder Law / Trusts...  \n",
      "8  At Children’s, the region’s only full-service ...  \n",
      "9  It is an exciting time to be a part of our chu...  \n"
     ]
    }
   ],
   "source": [
    "# remove descriptions and skills_desc columns\n",
    "df = df.drop(columns=['description', 'skills_desc'])\n",
    "print(df.head())"
   ]
  },
  {
   "cell_type": "code",
   "execution_count": 9,
   "metadata": {},
   "outputs": [],
   "source": [
    "# !python -m spacy download en_core_web_lg\n",
    "\n",
    "nlp = spacy.load(\"en_core_web_lg\")\n",
    "skill_pattern_path = \"skill_patterns.jsonl\""
   ]
  },
  {
   "cell_type": "markdown",
   "metadata": {},
   "source": [
    "# Test of the Spacy library"
   ]
  },
  {
   "cell_type": "code",
   "execution_count": 9,
   "metadata": {},
   "outputs": [],
   "source": [
    "# import spacy\n",
    "# from spacy.matcher import Matcher\n",
    "# import json\n",
    "\n",
    "# # Load the spaCy model\n",
    "# nlp = spacy.load(\"en_core_web_lg\")\n",
    "\n",
    "# # Path to the JSONL skill pattern file\n",
    "# skill_pattern_path = \"jz_skill_patterns.jsonl\"\n",
    "\n",
    "# # Load skill patterns from the JSONL file\n",
    "# with open(skill_pattern_path, \"r\") as file:\n",
    "#     skill_patterns = [json.loads(line) for line in file]\n",
    "\n",
    "# # Initialize the Matcher\n",
    "# matcher = Matcher(nlp.vocab)\n",
    "\n",
    "# # Add skill patterns to the Matcher\n",
    "# for pattern in skill_patterns:\n",
    "#     matcher.add(pattern[\"label\"], [pattern[\"pattern\"]])\n",
    "\n",
    "# # Example resume text\n",
    "# resume_text = \"\"\"\n",
    "#          HR ADMINISTRATOR/MARKETING ASSOCIATE\n",
    "\n",
    "# HR ADMINISTRATOR       Summary     Dedicated Customer Service Manager with 15+ years of experience in Hospitality and Customer Service Management.   Respected builder and leader of customer-focused teams; strives to instill a shared, enthusiastic commitment to customer service.         Highlights         Focused on customer satisfaction  Team management  Marketing savvy  Conflict resolution techniques     Training and development  Skilled multi-tasker  Client relations specialist           Accomplishments      Missouri DOT Supervisor Training Certification  Certified by IHG in Customer Loyalty and Marketing by Segment   Hilton Worldwide General Manager Training Certification  Accomplished Trainer for cross server hospitality systems such as    Hilton OnQ  ,   Micros    Opera PMS   , Fidelio    OPERA    Reservation System (ORS) ,   Holidex    Completed courses and seminars in customer service, sales strategies, inventory control, loss prevention, safety, time management, leadership and performance assessment.        Experience      HR Administrator/Marketing Associate\n",
    "\n",
    "# HR Administrator     Dec 2013   to   Current      Company Name   ï¼   City  ,   State     Helps to develop policies, directs and coordinates activities such as employment, compensation, labor relations, benefits, training, and employee services.  Prepares employee separation notices and related documentation  Keeps records of benefits plans participation such as insurance and pension plan, personnel transactions such as hires, promotions, transfers, performance reviews, and terminations, and employee statistics for government reporting.  Advises management in appropriate resolution of employee relations issues.  Administers benefits programs such as life, health, dental, insurance, pension plans, vacation, sick leave, leave of absence, and employee assistance.     Marketing Associate Â    Designed and created marketing collateral for sales meetings, trade shows and company executives.  Managed the in-house advertising program consisting of print and media collateral pieces.  Assisted in the complete design and launch of the company's website in 2 months.  Created an official company page on Facebook to facilitate interaction with customers.  Analyzed ratings and programming features of competitors to evaluate the effectiveness of marketing strategies.         Advanced Medical Claims Analyst     Mar 2012   to   Dec 2013      Company Name   ï¼   City  ,   State     Reviewed medical bills for the accuracy of the treatments, tests, and hospital stays prior to sanctioning the claims.  Trained to interpret the codes (ICD-9, CPT) and terminology commonly used in medical billing to fully understand the paperwork that is submitted by healthcare providers.  Required to have organizational and analytical skills as well as computer skills, knowledge of medical terminology and procedures, statistics, billing standards, data analysis and laws regarding medical billing.         Assistant General Manager     Jun 2010   to   Dec 2010      Company Name   ï¼   City  ,   State     Performed duties including but not limited to, budgeting and financial management, accounting, human resources, payroll and purchasing.  Established and maintained close working relationships with all departments of the hotel to ensure maximum operation, productivity, morale and guest service.  Handled daily operations and reported directly to the corporate office.  Hired and trained staff on overall objectives and goals with an emphasis on high customer service.  Marketing and Advertising, working on public relations with the media, government and local businesses and Chamber of Commerce.         Executive Support / Marketing Assistant     Jul 2007   to   Jun 2010      Company Name   ï¼   City  ,   State     Provided assistance to various department heads - Executive, Marketing, Customer Service, Human Resources.  Managed front-end operations to ensure friendly and efficient transactions.  Ensured the swift resolution of customer issues to preserve customer loyalty while complying with company policies.  Exemplified the second-to-none customer service delivery in all interactions with customers and potential clients.         Reservation & Front Office Manager     Jun 2004   to   Jul 2007      Company Name   ï¼   City  ,   State          Owner/ Partner     Dec 2001   to   May 2004      Company Name   ï¼   City  ,   State          Price Integrity Coordinator     Aug 1999   to   Dec 2001      Company Name   ï¼   City  ,   State          Education      N/A  ,   Business Administration   1999     Jefferson College   ï¼   City  ,   State       Business Administration  Marketing / Advertising         High School Diploma  ,   College Prep. studies   1998     Sainte Genevieve Senior High   ï¼   City  ,   State       Awarded American Shrubel Leadership Scholarship to Jefferson College         Skills     Accounting, ads, advertising, analytical skills, benefits, billing, budgeting, clients, Customer Service, data analysis, delivery, documentation, employee relations, financial management, government relations, Human Resources, insurance, labor relations, layout, Marketing, marketing collateral, medical billing, medical terminology, office, organizational, payroll, performance reviews, personnel, policies, posters, presentations, public relations, purchasing, reporting, statistics, website.    \n",
    "# \"\"\"\n",
    "\n",
    "# # Preprocess the text\n",
    "# resume_text = re.sub(r\"\\s+\", \" \", resume_text)\n",
    "# resume_text = resume_text.strip()\n",
    "# # To lowercase\n",
    "# resume_text = resume_text.lower()\n",
    "\n",
    "# # Process the text\n",
    "# doc = nlp(resume_text)\n",
    "\n",
    "# # Apply the matcher\n",
    "# matches = matcher(doc)\n",
    "\n",
    "# # Extract matched skills\n",
    "# # extracted_skills = [doc[start:end].text for match_id, start, end in matches]\n",
    "# # print(\"Extracted Skills:\", extracted_skills)\n",
    "\n",
    "# # Extract matched skills without duplicates\n",
    "# extracted_skills = list(set([doc[start:end].text for match_id, start, end in matches]))\n",
    "# print(\"Extracted Skills:\", extracted_skills)"
   ]
  },
  {
   "cell_type": "code",
   "execution_count": 10,
   "metadata": {},
   "outputs": [
    {
     "data": {
      "text/plain": [
       "['tok2vec',\n",
       " 'tagger',\n",
       " 'parser',\n",
       " 'attribute_ruler',\n",
       " 'lemmatizer',\n",
       " 'ner',\n",
       " 'entity_ruler']"
      ]
     },
     "execution_count": 10,
     "metadata": {},
     "output_type": "execute_result"
    }
   ],
   "source": [
    "ruler = nlp.add_pipe(\"entity_ruler\")\n",
    "ruler.from_disk(skill_pattern_path)\n",
    "nlp.pipe_names"
   ]
  },
  {
   "cell_type": "markdown",
   "metadata": {},
   "source": [
    "We will create two python functions to extract all the skills within a resume and create an array containing all the skills. Later we are going to apply this function to our dataset and create a new feature called skill. This will help us visualize trends and patterns within the dataset"
   ]
  },
  {
   "cell_type": "code",
   "execution_count": 11,
   "metadata": {},
   "outputs": [],
   "source": [
    "def get_skills(text):\n",
    "    doc = nlp(text)\n",
    "    myset = []\n",
    "    subset = []\n",
    "    for ent in doc.ents:\n",
    "        if ent.label_ == \"SKILL\":\n",
    "            subset.append(ent.text)\n",
    "    myset.append(subset)\n",
    "    return subset\n",
    "\n",
    "\n",
    "def unique_skills(x):\n",
    "    return list(set(x))"
   ]
  },
  {
   "cell_type": "markdown",
   "metadata": {},
   "source": [
    "# Cleaning Resume Text using nltk"
   ]
  },
  {
   "cell_type": "code",
   "execution_count": 12,
   "metadata": {},
   "outputs": [
    {
     "name": "stdout",
     "output_type": "stream",
     "text": [
      "Index(['title', 'combined_skills_desc'], dtype='object')\n"
     ]
    }
   ],
   "source": [
    "print(df.columns)\n",
    "\n",
    "data = df.copy()\n",
    "\n",
    "\n",
    "clean = []\n",
    "for i in range(data.shape[0]):\n",
    "    review = re.sub(\n",
    "        '(@[A-Za-z0-9]+)|([^0-9A-Za-z \\t])|(\\w+:\\/\\/\\S+)|^rt|http.+?\"',\n",
    "        \" \",\n",
    "        data[\"combined_skills_desc\"].iloc[i],\n",
    "    )\n",
    "    review = review.lower()\n",
    "    review = review.split()\n",
    "    lm = WordNetLemmatizer()\n",
    "    review = [\n",
    "        lm.lemmatize(word)\n",
    "        for word in review\n",
    "        if not word in set(stopwords.words(\"english\"))\n",
    "    ]\n",
    "    review = \" \".join(review)\n",
    "    clean.append(review)"
   ]
  },
  {
   "cell_type": "code",
   "execution_count": 13,
   "metadata": {},
   "outputs": [
    {
     "name": "stdout",
     "output_type": "stream",
     "text": [
      "                                               title   \n",
      "0                              Marketing Coordinator  \\\n",
      "2                        Assitant Restaurant Manager   \n",
      "3  Senior Elder Law / Trusts and Estates Associat...   \n",
      "8                              Respiratory Therapist   \n",
      "9                                     Worship Leader   \n",
      "\n",
      "                                combined_skills_desc  \n",
      "0  Job descriptionA leading real estate firm in N...  \n",
      "2  The National Exemplar is accepting application...  \n",
      "3  Senior Associate Attorney - Elder Law / Trusts...  \n",
      "8  At Children’s, the region’s only full-service ...  \n",
      "9  It is an exciting time to be a part of our chu...  \n"
     ]
    }
   ],
   "source": [
    "print(df.head())\n",
    "\n",
    "# Create a CSV for the Cleaned Data\n",
    "df[\"cleaned_JD\"] = clean\n",
    "df.to_csv(\"data/Linkedin Job Postings (2023-2024)/cleaned_JD.csv\", index=False)"
   ]
  },
  {
   "cell_type": "code",
   "execution_count": 15,
   "metadata": {},
   "outputs": [
    {
     "data": {
      "text/html": [
       "<div>\n",
       "<style scoped>\n",
       "    .dataframe tbody tr th:only-of-type {\n",
       "        vertical-align: middle;\n",
       "    }\n",
       "\n",
       "    .dataframe tbody tr th {\n",
       "        vertical-align: top;\n",
       "    }\n",
       "\n",
       "    .dataframe thead th {\n",
       "        text-align: right;\n",
       "    }\n",
       "</style>\n",
       "<table border=\"1\" class=\"dataframe\">\n",
       "  <thead>\n",
       "    <tr style=\"text-align: right;\">\n",
       "      <th></th>\n",
       "      <th>title</th>\n",
       "      <th>combined_skills_desc</th>\n",
       "      <th>Clean_JD</th>\n",
       "      <th>skills</th>\n",
       "    </tr>\n",
       "  </thead>\n",
       "  <tbody>\n",
       "    <tr>\n",
       "      <th>0</th>\n",
       "      <td>Marketing Coordinator</td>\n",
       "      <td>Job descriptionA leading real estate firm in N...</td>\n",
       "      <td>job descriptiona leading real estate firm new ...</td>\n",
       "      <td>[medium, advertising, graphic design, email ma...</td>\n",
       "    </tr>\n",
       "    <tr>\n",
       "      <th>2</th>\n",
       "      <td>Assitant Restaurant Manager</td>\n",
       "      <td>The National Exemplar is accepting application...</td>\n",
       "      <td>national exemplar accepting application assist...</td>\n",
       "      <td>[teamwork, organization, customer service]</td>\n",
       "    </tr>\n",
       "    <tr>\n",
       "      <th>3</th>\n",
       "      <td>Senior Elder Law / Trusts and Estates Associat...</td>\n",
       "      <td>Senior Associate Attorney - Elder Law / Trusts...</td>\n",
       "      <td>senior associate attorney elder law trust esta...</td>\n",
       "      <td>[search engine, analytics, marketing, problem ...</td>\n",
       "    </tr>\n",
       "    <tr>\n",
       "      <th>8</th>\n",
       "      <td>Respiratory Therapist</td>\n",
       "      <td>At Children’s, the region’s only full-service ...</td>\n",
       "      <td>child region full service pediatric healthcare...</td>\n",
       "      <td>[documentation, support, schedule, professiona...</td>\n",
       "    </tr>\n",
       "    <tr>\n",
       "      <th>9</th>\n",
       "      <td>Worship Leader</td>\n",
       "      <td>It is an exciting time to be a part of our chu...</td>\n",
       "      <td>exciting time part church looking right energe...</td>\n",
       "      <td>[organization, medium, graphic design, twitter...</td>\n",
       "    </tr>\n",
       "  </tbody>\n",
       "</table>\n",
       "</div>"
      ],
      "text/plain": [
       "                                               title   \n",
       "0                              Marketing Coordinator  \\\n",
       "2                        Assitant Restaurant Manager   \n",
       "3  Senior Elder Law / Trusts and Estates Associat...   \n",
       "8                              Respiratory Therapist   \n",
       "9                                     Worship Leader   \n",
       "\n",
       "                                combined_skills_desc   \n",
       "0  Job descriptionA leading real estate firm in N...  \\\n",
       "2  The National Exemplar is accepting application...   \n",
       "3  Senior Associate Attorney - Elder Law / Trusts...   \n",
       "8  At Children’s, the region’s only full-service ...   \n",
       "9  It is an exciting time to be a part of our chu...   \n",
       "\n",
       "                                            Clean_JD   \n",
       "0  job descriptiona leading real estate firm new ...  \\\n",
       "2  national exemplar accepting application assist...   \n",
       "3  senior associate attorney elder law trust esta...   \n",
       "8  child region full service pediatric healthcare...   \n",
       "9  exciting time part church looking right energe...   \n",
       "\n",
       "                                              skills  \n",
       "0  [medium, advertising, graphic design, email ma...  \n",
       "2         [teamwork, organization, customer service]  \n",
       "3  [search engine, analytics, marketing, problem ...  \n",
       "8  [documentation, support, schedule, professiona...  \n",
       "9  [organization, medium, graphic design, twitter...  "
      ]
     },
     "execution_count": 15,
     "metadata": {},
     "output_type": "execute_result"
    }
   ],
   "source": [
    "data[\"Clean_JD\"] = clean\n",
    "data[\"skills\"] = data[\"Clean_JD\"].str.lower().apply(get_skills)\n",
    "data[\"skills\"] = data[\"skills\"].apply(unique_skills)\n",
    "data.head()"
   ]
  },
  {
   "cell_type": "code",
   "execution_count": 36,
   "metadata": {},
   "outputs": [
    {
     "name": "stdout",
     "output_type": "stream",
     "text": [
      "Index(['title', 'combined_skills_desc', 'Clean_JD', 'skills'], dtype='object')\n",
      "                                               title   \n",
      "0                              Marketing Coordinator  \\\n",
      "2                        Assitant Restaurant Manager   \n",
      "3  Senior Elder Law / Trusts and Estates Associat...   \n",
      "8                              Respiratory Therapist   \n",
      "9                                     Worship Leader   \n",
      "\n",
      "                                                text   \n",
      "0  job descriptiona leading real estate firm new ...  \\\n",
      "2  national exemplar accepting application assist...   \n",
      "3  senior associate attorney elder law trust esta...   \n",
      "8  child region full service pediatric healthcare...   \n",
      "9  exciting time part church looking right energe...   \n",
      "\n",
      "                                              skills  \n",
      "0  [medium, advertising, graphic design, email ma...  \n",
      "2         [teamwork, organization, customer service]  \n",
      "3  [search engine, analytics, marketing, problem ...  \n",
      "8  [documentation, support, schedule, professiona...  \n",
      "9  [organization, medium, graphic design, twitter...  \n"
     ]
    }
   ],
   "source": [
    "df = data.copy()\n",
    "\n",
    "# show columns\n",
    "print(df.columns)\n",
    "\n",
    "# reove the combined_skills_desc column\n",
    "df = df.drop(columns=[\"combined_skills_desc\"])\n",
    "\n",
    "# rename Clean_JD to text\n",
    "df = df.rename(columns={\"Clean_JD\": \"text\"})\n",
    "print(df.head())\n",
    "\n"
   ]
  },
  {
   "cell_type": "code",
   "execution_count": 40,
   "metadata": {},
   "outputs": [
    {
     "ename": "",
     "evalue": "",
     "output_type": "error",
     "traceback": [
      "\u001b[1;31mThe Kernel crashed while executing code in the current cell or a previous cell. \n",
      "\u001b[1;31mPlease review the code in the cell(s) to identify a possible cause of the failure. \n",
      "\u001b[1;31mClick <a href='https://aka.ms/vscodeJupyterKernelCrash'>here</a> for more info. \n",
      "\u001b[1;31mView Jupyter <a href='command:jupyter.viewOutput'>log</a> for further details."
     ]
    }
   ],
   "source": [
    "# Save the data to a new CSV file\n",
    "df.to_csv(\"data/Linkedin Job Postings (2023-2024)/jd_final.csv\", index=False)"
   ]
  }
 ],
 "metadata": {
  "kernelspec": {
   "display_name": "Python 3",
   "language": "python",
   "name": "python3"
  },
  "language_info": {
   "codemirror_mode": {
    "name": "ipython",
    "version": 3
   },
   "file_extension": ".py",
   "mimetype": "text/x-python",
   "name": "python",
   "nbconvert_exporter": "python",
   "pygments_lexer": "ipython3",
   "version": "3.10.1"
  }
 },
 "nbformat": 4,
 "nbformat_minor": 2
}
