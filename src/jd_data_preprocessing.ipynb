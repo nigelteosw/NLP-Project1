{
 "cells": [
  {
   "cell_type": "markdown",
   "metadata": {},
   "source": [
    "# Import Necessary Libraries"
   ]
  },
  {
   "cell_type": "code",
   "execution_count": 27,
   "metadata": {},
   "outputs": [
    {
     "name": "stderr",
     "output_type": "stream",
     "text": [
      "[nltk_data] Downloading package stopwords to\n",
      "[nltk_data]     C:\\Users\\Anadu\\AppData\\Roaming\\nltk_data...\n",
      "[nltk_data]   Package stopwords is already up-to-date!\n",
      "[nltk_data] Downloading package wordnet to\n",
      "[nltk_data]     C:\\Users\\Anadu\\AppData\\Roaming\\nltk_data...\n",
      "[nltk_data]   Package wordnet is already up-to-date!\n",
      "[nltk_data] Downloading package punkt to\n",
      "[nltk_data]     C:\\Users\\Anadu\\AppData\\Roaming\\nltk_data...\n",
      "[nltk_data]   Package punkt is already up-to-date!\n",
      "[nltk_data] Downloading package stopwords to\n",
      "[nltk_data]     C:\\Users\\Anadu\\AppData\\Roaming\\nltk_data...\n",
      "[nltk_data]   Package stopwords is already up-to-date!\n"
     ]
    }
   ],
   "source": [
    "#spacy\n",
    "import spacy\n",
    "from spacy.pipeline import EntityRuler\n",
    "from spacy.lang.en import English\n",
    "from spacy.tokens import Doc\n",
    "\n",
    "#gensim\n",
    "import gensim\n",
    "from gensim import corpora\n",
    "\n",
    "#Visualization\n",
    "from spacy import displacy\n",
    "from wordcloud import WordCloud\n",
    "import plotly.express as px\n",
    "import matplotlib.pyplot as plt\n",
    "\n",
    "#nltk\n",
    "import re\n",
    "import nltk\n",
    "from nltk.corpus import stopwords\n",
    "from nltk.stem import WordNetLemmatizer\n",
    "nltk.download(['stopwords','wordnet'])\n",
    "from nltk.tokenize import word_tokenize\n",
    "\n",
    "#Data loading/ Data manipulation\n",
    "import pandas as pd\n",
    "import numpy as np\n",
    "\n",
    "# Ensure required NLTK data is downloaded\n",
    "nltk.download('punkt')\n",
    "nltk.download('stopwords')\n",
    "\n",
    "# Import json library\n",
    "import json"
   ]
  },
  {
   "cell_type": "markdown",
   "metadata": {},
   "source": [
    "# Import the CSV file"
   ]
  },
  {
   "cell_type": "code",
   "execution_count": 15,
   "metadata": {},
   "outputs": [],
   "source": [
    "file_path = 'data/Linkedin Job Postings (2023-2024)/postings.csv'\n",
    "data = pd.read_csv(file_path)\n",
    "\n",
    "# Display the first few rows\n",
    "# print(data.head())\n",
    "\n"
   ]
  },
  {
   "cell_type": "code",
   "execution_count": 16,
   "metadata": {},
   "outputs": [
    {
     "name": "stdout",
     "output_type": "stream",
     "text": [
      "     job_id            company_name   \n",
      "0    921716   Corcoran Sawyer Smith  \\\n",
      "1   1829192                     NaN   \n",
      "2  10998357  The National Exemplar    \n",
      "3  23221523  Abrams Fensterman, LLP   \n",
      "4  35982263                     NaN   \n",
      "\n",
      "                                               title   \n",
      "0                              Marketing Coordinator  \\\n",
      "1                  Mental Health Therapist/Counselor   \n",
      "2                        Assitant Restaurant Manager   \n",
      "3  Senior Elder Law / Trusts and Estates Associat...   \n",
      "4                                 Service Technician   \n",
      "\n",
      "                                         description  max_salary pay_period   \n",
      "0  Job descriptionA leading real estate firm in N...        20.0     HOURLY  \\\n",
      "1  At Aspen Therapy and Wellness , we are committ...        50.0     HOURLY   \n",
      "2  The National Exemplar is accepting application...     65000.0     YEARLY   \n",
      "3  Senior Associate Attorney - Elder Law / Trusts...    175000.0     YEARLY   \n",
      "4  Looking for HVAC service tech with experience ...     80000.0     YEARLY   \n",
      "\n",
      "            location  company_id  views  med_salary  ...   \n",
      "0      Princeton, NJ   2774458.0   20.0         NaN  ...  \\\n",
      "1   Fort Collins, CO         NaN    1.0         NaN  ...   \n",
      "2     Cincinnati, OH  64896719.0    8.0         NaN  ...   \n",
      "3  New Hyde Park, NY    766262.0   16.0         NaN  ...   \n",
      "4     Burlington, IA         NaN    3.0         NaN  ...   \n",
      "\n",
      "                                         skills_desc   listed_time   \n",
      "0  Requirements: \\n\\nWe are seeking a College or ...  1.713398e+12  \\\n",
      "1                                                NaN  1.712858e+12   \n",
      "2  We are currently accepting resumes for FOH - A...  1.713278e+12   \n",
      "3  This position requires a baseline understandin...  1.712896e+12   \n",
      "4                                                NaN  1.713452e+12   \n",
      "\n",
      "   posting_domain  sponsored  work_type currency compensation_type   \n",
      "0             NaN          0  FULL_TIME      USD       BASE_SALARY  \\\n",
      "1             NaN          0  FULL_TIME      USD       BASE_SALARY   \n",
      "2             NaN          0  FULL_TIME      USD       BASE_SALARY   \n",
      "3             NaN          0  FULL_TIME      USD       BASE_SALARY   \n",
      "4             NaN          0  FULL_TIME      USD       BASE_SALARY   \n",
      "\n",
      "  normalized_salary  zip_code     fips  \n",
      "0           38480.0    8540.0  34021.0  \n",
      "1           83200.0   80521.0   8069.0  \n",
      "2           55000.0   45202.0  39061.0  \n",
      "3          157500.0   11040.0  36059.0  \n",
      "4           70000.0   52601.0  19057.0  \n",
      "\n",
      "[5 rows x 31 columns]\n"
     ]
    }
   ],
   "source": [
    "# put data into a df\n",
    "df = pd.DataFrame(data)\n",
    "\n",
    "# Display the first few rows\n",
    "print(df.head())\n",
    "\n"
   ]
  },
  {
   "cell_type": "code",
   "execution_count": 17,
   "metadata": {},
   "outputs": [
    {
     "name": "stdout",
     "output_type": "stream",
     "text": [
      "     job_id            company_name   \n",
      "0    921716   Corcoran Sawyer Smith  \\\n",
      "1   1829192                     NaN   \n",
      "2  10998357  The National Exemplar    \n",
      "3  23221523  Abrams Fensterman, LLP   \n",
      "4  35982263                     NaN   \n",
      "\n",
      "                                               roles   \n",
      "0                              Marketing Coordinator  \\\n",
      "1                  Mental Health Therapist/Counselor   \n",
      "2                        Assitant Restaurant Manager   \n",
      "3  Senior Elder Law / Trusts and Estates Associat...   \n",
      "4                                 Service Technician   \n",
      "\n",
      "                                         description  max_salary pay_period   \n",
      "0  Job descriptionA leading real estate firm in N...        20.0     HOURLY  \\\n",
      "1  At Aspen Therapy and Wellness , we are committ...        50.0     HOURLY   \n",
      "2  The National Exemplar is accepting application...     65000.0     YEARLY   \n",
      "3  Senior Associate Attorney - Elder Law / Trusts...    175000.0     YEARLY   \n",
      "4  Looking for HVAC service tech with experience ...     80000.0     YEARLY   \n",
      "\n",
      "            location  company_id  views  med_salary  ...   \n",
      "0      Princeton, NJ   2774458.0   20.0         NaN  ...  \\\n",
      "1   Fort Collins, CO         NaN    1.0         NaN  ...   \n",
      "2     Cincinnati, OH  64896719.0    8.0         NaN  ...   \n",
      "3  New Hyde Park, NY    766262.0   16.0         NaN  ...   \n",
      "4     Burlington, IA         NaN    3.0         NaN  ...   \n",
      "\n",
      "                                         skills_desc   listed_time   \n",
      "0  Requirements: \\n\\nWe are seeking a College or ...  1.713398e+12  \\\n",
      "1                                                NaN  1.712858e+12   \n",
      "2  We are currently accepting resumes for FOH - A...  1.713278e+12   \n",
      "3  This position requires a baseline understandin...  1.712896e+12   \n",
      "4                                                NaN  1.713452e+12   \n",
      "\n",
      "   posting_domain  sponsored  work_type currency compensation_type   \n",
      "0             NaN          0  FULL_TIME      USD       BASE_SALARY  \\\n",
      "1             NaN          0  FULL_TIME      USD       BASE_SALARY   \n",
      "2             NaN          0  FULL_TIME      USD       BASE_SALARY   \n",
      "3             NaN          0  FULL_TIME      USD       BASE_SALARY   \n",
      "4             NaN          0  FULL_TIME      USD       BASE_SALARY   \n",
      "\n",
      "  normalized_salary  zip_code     fips  \n",
      "0           38480.0    8540.0  34021.0  \n",
      "1           83200.0   80521.0   8069.0  \n",
      "2           55000.0   45202.0  39061.0  \n",
      "3          157500.0   11040.0  36059.0  \n",
      "4           70000.0   52601.0  19057.0  \n",
      "\n",
      "[5 rows x 31 columns]\n"
     ]
    }
   ],
   "source": [
    "# rename title to roles\n",
    "df.rename(columns={\"title\": \"roles\"}, inplace=True)\n",
    "print(df.head())\n",
    "\n"
   ]
  },
  {
   "cell_type": "code",
   "execution_count": 20,
   "metadata": {},
   "outputs": [
    {
     "name": "stdout",
     "output_type": "stream",
     "text": [
      "                                               roles   \n",
      "0                              Marketing Coordinator  \\\n",
      "1                  Mental Health Therapist/Counselor   \n",
      "2                        Assitant Restaurant Manager   \n",
      "3  Senior Elder Law / Trusts and Estates Associat...   \n",
      "4                                 Service Technician   \n",
      "\n",
      "                                         description   \n",
      "0  Job descriptionA leading real estate firm in N...  \\\n",
      "1  At Aspen Therapy and Wellness , we are committ...   \n",
      "2  The National Exemplar is accepting application...   \n",
      "3  Senior Associate Attorney - Elder Law / Trusts...   \n",
      "4  Looking for HVAC service tech with experience ...   \n",
      "\n",
      "                                         skills_desc  \n",
      "0  Requirements: \\n\\nWe are seeking a College or ...  \n",
      "1                                                NaN  \n",
      "2  We are currently accepting resumes for FOH - A...  \n",
      "3  This position requires a baseline understandin...  \n",
      "4                                                NaN  \n"
     ]
    }
   ],
   "source": [
    "# Keep only the columns we need \"title\", \"description\", \"skills_desc\"\n",
    "df = df[[\"roles\", \"description\", \"skills_desc\"]]\n",
    "print(df.head())"
   ]
  },
  {
   "cell_type": "code",
   "execution_count": 21,
   "metadata": {},
   "outputs": [
    {
     "name": "stdout",
     "output_type": "stream",
     "text": [
      "                                               roles   \n",
      "0                              Marketing Coordinator  \\\n",
      "1                  Mental Health Therapist/Counselor   \n",
      "2                        Assitant Restaurant Manager   \n",
      "3  Senior Elder Law / Trusts and Estates Associat...   \n",
      "4                                 Service Technician   \n",
      "\n",
      "                                         description   \n",
      "0  Job descriptionA leading real estate firm in N...  \\\n",
      "1  At Aspen Therapy and Wellness , we are committ...   \n",
      "2  The National Exemplar is accepting application...   \n",
      "3  Senior Associate Attorney - Elder Law / Trusts...   \n",
      "4  Looking for HVAC service tech with experience ...   \n",
      "\n",
      "                                         skills_desc   \n",
      "0  Requirements: \\n\\nWe are seeking a College or ...  \\\n",
      "1                                                NaN   \n",
      "2  We are currently accepting resumes for FOH - A...   \n",
      "3  This position requires a baseline understandin...   \n",
      "4                                                NaN   \n",
      "\n",
      "                                combined_skills_desc  \n",
      "0  Job descriptionA leading real estate firm in N...  \n",
      "1                                                NaN  \n",
      "2  The National Exemplar is accepting application...  \n",
      "3  Senior Associate Attorney - Elder Law / Trusts...  \n",
      "4                                                NaN  \n"
     ]
    }
   ],
   "source": [
    "# Combine the description and skills_desc columns\n",
    "df['combined_skills_desc'] = df['description'] + df['skills_desc']\n",
    "print(df.head())\n"
   ]
  },
  {
   "cell_type": "code",
   "execution_count": 22,
   "metadata": {},
   "outputs": [
    {
     "name": "stdout",
     "output_type": "stream",
     "text": [
      "                                               roles   \n",
      "0                              Marketing Coordinator  \\\n",
      "1                  Mental Health Therapist/Counselor   \n",
      "2                        Assitant Restaurant Manager   \n",
      "3  Senior Elder Law / Trusts and Estates Associat...   \n",
      "4                                 Service Technician   \n",
      "\n",
      "                                combined_skills_desc  \n",
      "0  Job descriptionA leading real estate firm in N...  \n",
      "1                                                NaN  \n",
      "2  The National Exemplar is accepting application...  \n",
      "3  Senior Associate Attorney - Elder Law / Trusts...  \n",
      "4                                                NaN  \n"
     ]
    }
   ],
   "source": [
    "# Drop the description and skills_desc columns\n",
    "df = df.drop(columns=['description', 'skills_desc'])\n",
    "print(df.head())"
   ]
  },
  {
   "cell_type": "code",
   "execution_count": 25,
   "metadata": {},
   "outputs": [
    {
     "name": "stdout",
     "output_type": "stream",
     "text": [
      "(2439, 2)\n",
      "                                               roles   \n",
      "0                              Marketing Coordinator  \\\n",
      "1                        Assitant Restaurant Manager   \n",
      "2  Senior Elder Law / Trusts and Estates Associat...   \n",
      "3                              Respiratory Therapist   \n",
      "4                                     Worship Leader   \n",
      "\n",
      "                                combined_skills_desc  \n",
      "0  Job descriptionA leading real estate firm in N...  \n",
      "1  The National Exemplar is accepting application...  \n",
      "2  Senior Associate Attorney - Elder Law / Trusts...  \n",
      "3  At Children’s, the region’s only full-service ...  \n",
      "4  It is an exciting time to be a part of our chu...  \n"
     ]
    }
   ],
   "source": [
    "# Remove any rows with missing values\n",
    "df = df.dropna()\n",
    "\n",
    "\n",
    "# print the shape of the data\n",
    "print(df.shape)\n",
    "\n",
    "# reset the index\n",
    "df = df.reset_index(drop=True)\n",
    "\n",
    "print(df.head())"
   ]
  },
  {
   "cell_type": "code",
   "execution_count": null,
   "metadata": {},
   "outputs": [],
   "source": [
    "# add all roles into src/role_patterns.jsonl file with all lowercase\n",
    "# create a new file named role_patterns.jsonl\n",
    "# open the file in write mode\n",
    "# with open('role_patterns.jsonl', 'w') as f:\n",
    "#     # iterate over the rows of the df\n",
    "#     for index, row in df.iterrows():\n",
    "#         # create a dictionary with the index and the role\n",
    "#         role = {\"label\": \"ROLE\", \"pattern\": row[\"roles\"].lower()}\n",
    "#         # write the role to the file\n",
    "#         f.write(json.dumps(role) + '\\n')\n",
    "\n"
   ]
  },
  {
   "cell_type": "code",
   "execution_count": 30,
   "metadata": {},
   "outputs": [],
   "source": [
    "# Save this to a new csv file\n",
    "df.to_csv('data/Linkedin Job Postings (2023-2024)/postings_combined_desc.csv', index=False)"
   ]
  },
  {
   "cell_type": "code",
   "execution_count": 44,
   "metadata": {},
   "outputs": [],
   "source": [
    "# !python -m spacy download en_core_web_lg\n",
    "\n",
    "nlp = spacy.load(\"en_core_web_lg\")\n",
    "skill_pattern_path = \"skill_patterns_lowercase.jsonl\""
   ]
  },
  {
   "cell_type": "markdown",
   "metadata": {},
   "source": [
    "# Test of the Spacy library"
   ]
  },
  {
   "cell_type": "code",
   "execution_count": 45,
   "metadata": {},
   "outputs": [
    {
     "data": {
      "text/plain": [
       "['tok2vec',\n",
       " 'tagger',\n",
       " 'parser',\n",
       " 'attribute_ruler',\n",
       " 'lemmatizer',\n",
       " 'ner',\n",
       " 'entity_ruler']"
      ]
     },
     "execution_count": 45,
     "metadata": {},
     "output_type": "execute_result"
    }
   ],
   "source": [
    "ruler = nlp.add_pipe(\"entity_ruler\")\n",
    "ruler.from_disk(skill_pattern_path)\n",
    "nlp.pipe_names"
   ]
  },
  {
   "cell_type": "markdown",
   "metadata": {},
   "source": [
    "We will create two python functions to extract all the skills within a resume and create an array containing all the skills. Later we are going to apply this function to our dataset and create a new feature called skill. This will help us visualize trends and patterns within the dataset"
   ]
  },
  {
   "cell_type": "code",
   "execution_count": 46,
   "metadata": {},
   "outputs": [],
   "source": [
    "def get_skills(text):\n",
    "    doc = nlp(text)\n",
    "    myset = []\n",
    "    subset = []\n",
    "    for ent in doc.ents:\n",
    "        if ent.label_ == \"SKILL\":\n",
    "            subset.append(ent.text)\n",
    "    myset.append(subset)\n",
    "    return subset\n",
    "\n",
    "def get_hard_skills(text):\n",
    "    doc = nlp(text)\n",
    "    myset = []\n",
    "    subset = []\n",
    "    for ent in doc.ents:\n",
    "        if ent.label_ == \"HARD SKILL\":\n",
    "            subset.append(ent.text)\n",
    "    myset.append(subset)\n",
    "    return subset\n",
    "\n",
    "def unique_skills(x):\n",
    "    return list(set(x))"
   ]
  },
  {
   "cell_type": "markdown",
   "metadata": {},
   "source": [
    "# Cleaning Resume Text using nltk"
   ]
  },
  {
   "cell_type": "code",
   "execution_count": 47,
   "metadata": {},
   "outputs": [
    {
     "name": "stdout",
     "output_type": "stream",
     "text": [
      "                                               roles   \n",
      "0                              Marketing Coordinator  \\\n",
      "1                        Assitant Restaurant Manager   \n",
      "2  Senior Elder Law / Trusts and Estates Associat...   \n",
      "3                              Respiratory Therapist   \n",
      "4                                     Worship Leader   \n",
      "\n",
      "                                combined_skills_desc   \n",
      "0  job descriptiona leading real estate firm in n...  \\\n",
      "1  the national exemplar is accepting application...   \n",
      "2  senior associate attorney elder law trusts and...   \n",
      "3  at children s the region s only full service p...   \n",
      "4  it is an exciting time to be a part of our chu...   \n",
      "\n",
      "                                              skills       hard_skills  \n",
      "0  [marketing, design, advertising, graphic desig...        [maintain]  \n",
      "1  [organization, communication, teamwork, custom...                []  \n",
      "2  [marketing, problem solving, search engine, an...                []  \n",
      "3  [support, schedule, professionalism, documenta...  [test, maintain]  \n",
      "4  [team building, design, graphic design, google...                []  \n"
     ]
    }
   ],
   "source": [
    "# Go through each row of the 'Resume_str' column and clean the text\n",
    "df['combined_skills_desc'] = df['combined_skills_desc'].apply(lambda x: re.sub(r'\\s+', ' ', x))\n",
    "\n",
    "# Remove special characters and digits\n",
    "df['combined_skills_desc'] = df['combined_skills_desc'].apply(lambda x: re.sub('[^A-Za-z]+', ' ', x))\n",
    "\n",
    "# Remove stopwords\n",
    "stop_words = set(stopwords.words('english'))\n",
    "\n",
    "# turn the text into lowercase\n",
    "df['combined_skills_desc'] = df['combined_skills_desc'].apply(lambda x: x.lower())\n",
    "\n",
    "print(df.head())"
   ]
  },
  {
   "cell_type": "code",
   "execution_count": 48,
   "metadata": {},
   "outputs": [
    {
     "name": "stdout",
     "output_type": "stream",
     "text": [
      "                                               roles   \n",
      "0                              Marketing Coordinator  \\\n",
      "1                        Assitant Restaurant Manager   \n",
      "2  Senior Elder Law / Trusts and Estates Associat...   \n",
      "3                              Respiratory Therapist   \n",
      "4                                     Worship Leader   \n",
      "\n",
      "                                combined_skills_desc   \n",
      "0  job descriptiona leading real estate firm in n...  \\\n",
      "1  the national exemplar is accepting application...   \n",
      "2  senior associate attorney elder law trusts and...   \n",
      "3  at children s the region s only full service p...   \n",
      "4  it is an exciting time to be a part of our chu...   \n",
      "\n",
      "                                              skills       hard_skills  \n",
      "0  [marketing, design, advertising, graphic desig...        [maintain]  \n",
      "1  [organization, communication, teamwork, custom...                []  \n",
      "2  [marketing, problem solving, search engine, an...                []  \n",
      "3  [support, schedule, professionalism, documenta...  [test, maintain]  \n",
      "4  [team building, design, graphic design, google...                []  \n"
     ]
    }
   ],
   "source": [
    "print(df.head())\n",
    "\n",
    "cleaned_JD = df\n",
    "cleaned_JD.to_csv(\"data/Linkedin Job Postings (2023-2024)/cleaned_JD.csv\", index=False)"
   ]
  },
  {
   "cell_type": "code",
   "execution_count": 49,
   "metadata": {},
   "outputs": [
    {
     "name": "stdout",
     "output_type": "stream",
     "text": [
      "                                               roles   \n",
      "0                              Marketing Coordinator  \\\n",
      "1                        Assitant Restaurant Manager   \n",
      "2  Senior Elder Law / Trusts and Estates Associat...   \n",
      "3                              Respiratory Therapist   \n",
      "4                                     Worship Leader   \n",
      "\n",
      "                                combined_skills_desc   \n",
      "0  job descriptiona leading real estate firm in n...  \\\n",
      "1  the national exemplar is accepting application...   \n",
      "2  senior associate attorney elder law trusts and...   \n",
      "3  at children s the region s only full service p...   \n",
      "4  it is an exciting time to be a part of our chu...   \n",
      "\n",
      "                                              skills       hard_skills  \n",
      "0  [marketing, business, advertising, graphic des...        [maintain]  \n",
      "1         [organization, teamwork, customer service]                []  \n",
      "2                   [problem solving, search engine]                []  \n",
      "3               [support, schedule, professionalism]  [test, maintain]  \n",
      "4  [team building, graphic design, google, twitte...                []  \n"
     ]
    }
   ],
   "source": [
    "processed = df\n",
    "\n",
    "processed['skills'] = processed['combined_skills_desc'].apply(get_skills)\n",
    "processed['skills'] = processed['skills'].apply(unique_skills)\n",
    "\n",
    "print(processed.head())\n"
   ]
  },
  {
   "cell_type": "code",
   "execution_count": 50,
   "metadata": {},
   "outputs": [
    {
     "name": "stdout",
     "output_type": "stream",
     "text": [
      "                                               roles   \n",
      "0                              Marketing Coordinator  \\\n",
      "1                        Assitant Restaurant Manager   \n",
      "2  Senior Elder Law / Trusts and Estates Associat...   \n",
      "3                              Respiratory Therapist   \n",
      "4                                     Worship Leader   \n",
      "\n",
      "                                combined_skills_desc   \n",
      "0  job descriptiona leading real estate firm in n...  \\\n",
      "1  the national exemplar is accepting application...   \n",
      "2  senior associate attorney elder law trusts and...   \n",
      "3  at children s the region s only full service p...   \n",
      "4  it is an exciting time to be a part of our chu...   \n",
      "\n",
      "                                              skills   \n",
      "0  [marketing, business, advertising, graphic des...  \\\n",
      "1         [organization, teamwork, customer service]   \n",
      "2                   [problem solving, search engine]   \n",
      "3               [support, schedule, professionalism]   \n",
      "4  [team building, graphic design, google, twitte...   \n",
      "\n",
      "                                         hard_skills  \n",
      "0  [marketing, design, dynamic, development, main...  \n",
      "1                      [applications, communication]  \n",
      "2  [marketing, planning, dynamic, analytical, ana...  \n",
      "3  [documentation, technical, education, maintain...  \n",
      "4  [applications, design, internet, analytical, p...  \n"
     ]
    }
   ],
   "source": [
    "processed['hard_skills'] = processed['combined_skills_desc'].apply(get_hard_skills)\n",
    "processed['hard_skills'] = processed['hard_skills'].apply(unique_skills)\n",
    "\n",
    "print(processed.head())\n"
   ]
  },
  {
   "cell_type": "code",
   "execution_count": 51,
   "metadata": {},
   "outputs": [],
   "source": [
    "# Save the data to a new CSV file\n",
    "processed.to_csv(\"data/Linkedin Job Postings (2023-2024)/cleaned_JD_with_skills.csv\", index=False)"
   ]
  }
 ],
 "metadata": {
  "kernelspec": {
   "display_name": "Python 3",
   "language": "python",
   "name": "python3"
  },
  "language_info": {
   "codemirror_mode": {
    "name": "ipython",
    "version": 3
   },
   "file_extension": ".py",
   "mimetype": "text/x-python",
   "name": "python",
   "nbconvert_exporter": "python",
   "pygments_lexer": "ipython3",
   "version": "3.10.1"
  }
 },
 "nbformat": 4,
 "nbformat_minor": 2
}
